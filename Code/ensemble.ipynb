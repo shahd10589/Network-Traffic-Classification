{
  "nbformat": 4,
  "nbformat_minor": 0,
  "metadata": {
    "colab": {
      "provenance": []
    },
    "kernelspec": {
      "name": "python3",
      "display_name": "Python 3"
    },
    "language_info": {
      "name": "python"
    }
  },
  "cells": [
    {
      "cell_type": "code",
      "execution_count": 17,
      "metadata": {
        "id": "AwcXV7kdG4by"
      },
      "outputs": [],
      "source": [
        "import numpy as np\n",
        "import pandas as pd\n",
        "import matplotlib.pyplot as plt\n",
        "import seaborn as sns\n",
        "import warnings\n",
        "warnings.filterwarnings('ignore')"
      ]
    },
    {
      "cell_type": "code",
      "source": [
        "train = pd.read_csv('UNSW_NB15_training-set.csv')\n",
        "test = pd.read_csv('UNSW_NB15_testing-set.csv')"
      ],
      "metadata": {
        "id": "RXY38eyBHCk2"
      },
      "execution_count": 18,
      "outputs": []
    },
    {
      "cell_type": "code",
      "source": [
        "train.info()"
      ],
      "metadata": {
        "colab": {
          "base_uri": "https://localhost:8080/"
        },
        "id": "XKrGizMWHs9m",
        "outputId": "f9211017-1030-4914-99bc-6ba8bb51303f"
      },
      "execution_count": 19,
      "outputs": [
        {
          "output_type": "stream",
          "name": "stdout",
          "text": [
            "<class 'pandas.core.frame.DataFrame'>\n",
            "RangeIndex: 175341 entries, 0 to 175340\n",
            "Data columns (total 45 columns):\n",
            " #   Column             Non-Null Count   Dtype  \n",
            "---  ------             --------------   -----  \n",
            " 0   id                 175341 non-null  int64  \n",
            " 1   dur                175341 non-null  float64\n",
            " 2   proto              175341 non-null  object \n",
            " 3   service            175341 non-null  object \n",
            " 4   state              175341 non-null  object \n",
            " 5   spkts              175341 non-null  int64  \n",
            " 6   dpkts              175341 non-null  int64  \n",
            " 7   sbytes             175341 non-null  int64  \n",
            " 8   dbytes             175341 non-null  int64  \n",
            " 9   rate               175341 non-null  float64\n",
            " 10  sttl               175341 non-null  int64  \n",
            " 11  dttl               175341 non-null  int64  \n",
            " 12  sload              175341 non-null  float64\n",
            " 13  dload              175341 non-null  float64\n",
            " 14  sloss              175341 non-null  int64  \n",
            " 15  dloss              175341 non-null  int64  \n",
            " 16  sinpkt             175341 non-null  float64\n",
            " 17  dinpkt             175341 non-null  float64\n",
            " 18  sjit               175341 non-null  float64\n",
            " 19  djit               175341 non-null  float64\n",
            " 20  swin               175341 non-null  int64  \n",
            " 21  stcpb              175341 non-null  int64  \n",
            " 22  dtcpb              175341 non-null  int64  \n",
            " 23  dwin               175341 non-null  int64  \n",
            " 24  tcprtt             175341 non-null  float64\n",
            " 25  synack             175341 non-null  float64\n",
            " 26  ackdat             175341 non-null  float64\n",
            " 27  smean              175341 non-null  int64  \n",
            " 28  dmean              175341 non-null  int64  \n",
            " 29  trans_depth        175341 non-null  int64  \n",
            " 30  response_body_len  175341 non-null  int64  \n",
            " 31  ct_srv_src         175341 non-null  int64  \n",
            " 32  ct_state_ttl       175341 non-null  int64  \n",
            " 33  ct_dst_ltm         175341 non-null  int64  \n",
            " 34  ct_src_dport_ltm   175341 non-null  int64  \n",
            " 35  ct_dst_sport_ltm   175341 non-null  int64  \n",
            " 36  ct_dst_src_ltm     175341 non-null  int64  \n",
            " 37  is_ftp_login       175341 non-null  int64  \n",
            " 38  ct_ftp_cmd         175341 non-null  int64  \n",
            " 39  ct_flw_http_mthd   175341 non-null  int64  \n",
            " 40  ct_src_ltm         175341 non-null  int64  \n",
            " 41  ct_srv_dst         175341 non-null  int64  \n",
            " 42  is_sm_ips_ports    175341 non-null  int64  \n",
            " 43  attack_cat         175341 non-null  object \n",
            " 44  label              175341 non-null  int64  \n",
            "dtypes: float64(11), int64(30), object(4)\n",
            "memory usage: 60.2+ MB\n"
          ]
        }
      ]
    },
    {
      "cell_type": "code",
      "source": [
        "train = train.drop(['attack_cat','id'],axis = 1)\n",
        "test = test.drop(['attack_cat','id'],axis = 1)"
      ],
      "metadata": {
        "id": "TJrHuY7zHiHb"
      },
      "execution_count": 20,
      "outputs": []
    },
    {
      "cell_type": "code",
      "source": [
        "y_train = train['label']\n",
        "x_train = train.drop(['label'],axis = 1)\n",
        "y_test = test['label']\n",
        "x_test = test.drop(['label'],axis = 1)"
      ],
      "metadata": {
        "id": "0MaTFtDSHvvS"
      },
      "execution_count": 21,
      "outputs": []
    },
    {
      "cell_type": "code",
      "source": [
        "num = x_train.select_dtypes(include = 'number')\n",
        "cat = x_train.select_dtypes(include = 'object')"
      ],
      "metadata": {
        "id": "WvH2uV5MH6JY"
      },
      "execution_count": 22,
      "outputs": []
    },
    {
      "cell_type": "code",
      "source": [
        "from sklearn.preprocessing import RobustScaler\n",
        "scaler = RobustScaler()\n",
        "x_train[num.columns] = scaler.fit_transform(x_train[num.columns])\n",
        "x_test[num.columns] = scaler.transform(x_test[num.columns])"
      ],
      "metadata": {
        "id": "bPbUgIzQH8pP"
      },
      "execution_count": 23,
      "outputs": []
    },
    {
      "cell_type": "code",
      "source": [
        "# one hot encode\n",
        "x_test = pd.get_dummies(x_test)\n",
        "x_train = pd.get_dummies(x_train)"
      ],
      "metadata": {
        "id": "Om8HwcNSIJik"
      },
      "execution_count": 24,
      "outputs": []
    },
    {
      "cell_type": "code",
      "source": [
        "# align\n",
        "x_train, x_test = x_train.align(x_test, join = 'inner', axis = 1)"
      ],
      "metadata": {
        "id": "vwxdVTBrJnMO"
      },
      "execution_count": 28,
      "outputs": []
    },
    {
      "cell_type": "code",
      "source": [
        "from sklearn.metrics import classification_report, confusion_matrix, roc_auc_score, roc_curve,auc\n",
        "from xgboost import XGBClassifier"
      ],
      "metadata": {
        "id": "BOjSfiBII1iI"
      },
      "execution_count": 25,
      "outputs": []
    },
    {
      "cell_type": "code",
      "source": [
        "def train_and_evaluate_model(model, x_train, y_train, x_test, y_test):\n",
        "    model.fit(x_train, y_train)\n",
        "    y_pred = model.predict(x_test)\n",
        "    print(classification_report(y_test, y_pred))\n",
        "    print(confusion_matrix(y_test, y_pred))\n",
        "    print(roc_auc_score(y_test, y_pred))"
      ],
      "metadata": {
        "id": "ssmS9MrSIig2"
      },
      "execution_count": 26,
      "outputs": []
    },
    {
      "cell_type": "code",
      "source": [
        "xgb = XGBClassifier(learning_rate=0.1, max_depth=7, n_estimators=300)\n",
        "train_and_evaluate_model(xgb, x_train, y_train, x_test, y_test)"
      ],
      "metadata": {
        "colab": {
          "base_uri": "https://localhost:8080/"
        },
        "id": "IuF8y8p7IYhy",
        "outputId": "6907b526-7ff6-40a6-c1e8-e4a7e1715f3a"
      },
      "execution_count": 29,
      "outputs": [
        {
          "output_type": "stream",
          "name": "stdout",
          "text": [
            "              precision    recall  f1-score   support\n",
            "\n",
            "           0       0.97      0.74      0.84     37000\n",
            "           1       0.82      0.98      0.89     45332\n",
            "\n",
            "    accuracy                           0.87     82332\n",
            "   macro avg       0.90      0.86      0.87     82332\n",
            "weighted avg       0.89      0.87      0.87     82332\n",
            "\n",
            "[[27334  9666]\n",
            " [  821 44511]]\n",
            "0.8603229649838668\n"
          ]
        }
      ]
    },
    {
      "cell_type": "code",
      "source": [
        "# balanced RF\n",
        "from imblearn.ensemble import BalancedRandomForestClassifier\n",
        "brf = BalancedRandomForestClassifier(n_estimators=100, random_state=42)\n",
        "train_and_evaluate_model(brf, x_train, y_train, x_test, y_test)"
      ],
      "metadata": {
        "colab": {
          "base_uri": "https://localhost:8080/"
        },
        "id": "K7lrcaAUJE0I",
        "outputId": "5de12c24-3f2b-4c02-f9f0-8d67e5d2c465"
      },
      "execution_count": 30,
      "outputs": [
        {
          "output_type": "stream",
          "name": "stdout",
          "text": [
            "              precision    recall  f1-score   support\n",
            "\n",
            "           0       0.96      0.81      0.88     37000\n",
            "           1       0.86      0.97      0.91     45332\n",
            "\n",
            "    accuracy                           0.90     82332\n",
            "   macro avg       0.91      0.89      0.90     82332\n",
            "weighted avg       0.91      0.90      0.90     82332\n",
            "\n",
            "[[29928  7072]\n",
            " [ 1280 44052]]\n",
            "0.8903143701364826\n"
          ]
        }
      ]
    },
    {
      "cell_type": "code",
      "source": [
        "# try pca\n",
        "from sklearn.decomposition import PCA\n",
        "pca = PCA(n_components=0.95)\n",
        "x_train_pca = pca.fit_transform(x_train)\n",
        "x_test_pca = pca.transform(x_test)"
      ],
      "metadata": {
        "id": "BE_QmU4zKIMv"
      },
      "execution_count": 32,
      "outputs": []
    },
    {
      "cell_type": "code",
      "source": [
        "print(x_train_pca.shape)\n",
        "print(x_test_pca.shape)"
      ],
      "metadata": {
        "colab": {
          "base_uri": "https://localhost:8080/"
        },
        "id": "dJhZsIRSKSSy",
        "outputId": "5607e7c6-2abf-44a6-81c7-af82175753df"
      },
      "execution_count": 33,
      "outputs": [
        {
          "output_type": "stream",
          "name": "stdout",
          "text": [
            "(175341, 1)\n",
            "(82332, 1)\n"
          ]
        }
      ]
    },
    {
      "cell_type": "code",
      "source": [
        "# try again\n",
        "brf = BalancedRandomForestClassifier(n_estimators=100, random_state=42)\n",
        "train_and_evaluate_model(brf, x_train_pca, y_train, x_test_pca, y_test)"
      ],
      "metadata": {
        "colab": {
          "base_uri": "https://localhost:8080/"
        },
        "id": "kv6JwRz-KMzM",
        "outputId": "3ff85455-0f26-4336-c914-17b69ede7584"
      },
      "execution_count": 34,
      "outputs": [
        {
          "output_type": "stream",
          "name": "stdout",
          "text": [
            "              precision    recall  f1-score   support\n",
            "\n",
            "           0       0.79      0.59      0.68     37000\n",
            "           1       0.72      0.87      0.79     45332\n",
            "\n",
            "    accuracy                           0.75     82332\n",
            "   macro avg       0.76      0.73      0.73     82332\n",
            "weighted avg       0.75      0.75      0.74     82332\n",
            "\n",
            "[[21924 15076]\n",
            " [ 5766 39566]]\n",
            "0.7326728115214836\n"
          ]
        }
      ]
    },
    {
      "cell_type": "code",
      "source": [
        "# voting classifier\n",
        "from sklearn.ensemble import VotingClassifier\n",
        "xgb = XGBClassifier(learning_rate=0.1, max_depth=7, n_estimators=300)\n",
        "brf = BalancedRandomForestClassifier(n_estimators=100, random_state=42)\n",
        "voting_clf = VotingClassifier(estimators=[('xgb', xgb), ('brf', brf)], voting='soft')"
      ],
      "metadata": {
        "id": "SGlF-ZIiKVEg"
      },
      "execution_count": 35,
      "outputs": []
    },
    {
      "cell_type": "code",
      "source": [
        "voting_clf.fit(x_train, y_train)\n",
        "y_pred = voting_clf.predict(x_test)\n",
        "print(classification_report(y_test, y_pred))\n",
        "print(confusion_matrix(y_test, y_pred))\n",
        "print(roc_auc_score(y_test, y_pred))"
      ],
      "metadata": {
        "colab": {
          "base_uri": "https://localhost:8080/"
        },
        "id": "E8gvpImOKhe-",
        "outputId": "715363f3-0e5b-4b39-fa40-277f0f236c0f"
      },
      "execution_count": 36,
      "outputs": [
        {
          "output_type": "stream",
          "name": "stdout",
          "text": [
            "              precision    recall  f1-score   support\n",
            "\n",
            "           0       0.97      0.77      0.86     37000\n",
            "           1       0.84      0.98      0.90     45332\n",
            "\n",
            "    accuracy                           0.89     82332\n",
            "   macro avg       0.90      0.87      0.88     82332\n",
            "weighted avg       0.90      0.89      0.88     82332\n",
            "\n",
            "[[28455  8545]\n",
            " [  894 44438]]\n",
            "0.8746664428921995\n"
          ]
        }
      ]
    },
    {
      "cell_type": "code",
      "source": [
        "xgb = XGBClassifier(learning_rate=0.1, max_depth=7, n_estimators=300)\n",
        "brf = BalancedRandomForestClassifier(n_estimators=100, random_state=42)\n",
        "voting_clf2 = VotingClassifier(estimators=[('xgb', xgb), ('brf', brf)], voting='hard')"
      ],
      "metadata": {
        "id": "zLTVYlXFKmNb"
      },
      "execution_count": 38,
      "outputs": []
    },
    {
      "cell_type": "code",
      "source": [
        "voting_clf2.fit(x_train, y_train)\n",
        "y_pred = voting_clf2.predict(x_test)\n",
        "print(classification_report(y_test, y_pred))\n",
        "print(confusion_matrix(y_test, y_pred))"
      ],
      "metadata": {
        "colab": {
          "base_uri": "https://localhost:8080/"
        },
        "id": "3cPAMPwqLHQn",
        "outputId": "1c5f9d76-56b2-4043-bc96-035a1cd52deb"
      },
      "execution_count": 39,
      "outputs": [
        {
          "output_type": "stream",
          "name": "stdout",
          "text": [
            "              precision    recall  f1-score   support\n",
            "\n",
            "           0       0.95      0.82      0.88     37000\n",
            "           1       0.87      0.97      0.91     45332\n",
            "\n",
            "    accuracy                           0.90     82332\n",
            "   macro avg       0.91      0.89      0.90     82332\n",
            "weighted avg       0.91      0.90      0.90     82332\n",
            "\n",
            "[[30337  6663]\n",
            " [ 1496 43836]]\n"
          ]
        }
      ]
    },
    {
      "cell_type": "code",
      "source": [
        "print(roc_auc_score(y_test, y_pred))"
      ],
      "metadata": {
        "colab": {
          "base_uri": "https://localhost:8080/"
        },
        "id": "cOja7_dKLnHg",
        "outputId": "5f18bacf-e570-4159-a548-d83ee977f0be"
      },
      "execution_count": 40,
      "outputs": [
        {
          "output_type": "stream",
          "name": "stdout",
          "text": [
            "0.893458974151068\n"
          ]
        }
      ]
    }
  ]
}